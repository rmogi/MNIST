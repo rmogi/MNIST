{
  "nbformat": 4,
  "nbformat_minor": 0,
  "metadata": {
    "colab": {
      "name": "CNN_MNIST ",
      "provenance": [],
      "collapsed_sections": [],
      "authorship_tag": "ABX9TyMwZVTB0TJfVkEfWLdBxik7",
      "include_colab_link": true
    },
    "kernelspec": {
      "name": "python3",
      "display_name": "Python 3"
    },
    "accelerator": "GPU"
  },
  "cells": [
    {
      "cell_type": "markdown",
      "metadata": {
        "id": "view-in-github",
        "colab_type": "text"
      },
      "source": [
        "<a href=\"https://colab.research.google.com/github/rmogi/MNIST/blob/mnist_source-code/CNN_MNIST.ipynb\" target=\"_parent\"><img src=\"https://colab.research.google.com/assets/colab-badge.svg\" alt=\"Open In Colab\"/></a>"
      ]
    },
    {
      "cell_type": "code",
      "metadata": {
        "id": "hivmuz3wcFf3",
        "colab_type": "code",
        "colab": {
          "base_uri": "https://localhost:8080/",
          "height": 34
        },
        "outputId": "da43b3e8-3417-4cea-fabf-b3678eef93b0"
      },
      "source": [
        "from google.colab import drive\n",
        "drive.mount('/content/drive')"
      ],
      "execution_count": 1,
      "outputs": [
        {
          "output_type": "stream",
          "text": [
            "Mounted at /content/drive\n"
          ],
          "name": "stdout"
        }
      ]
    },
    {
      "cell_type": "code",
      "metadata": {
        "id": "me-W1iQwPMjk",
        "colab_type": "code",
        "colab": {
          "base_uri": "https://localhost:8080/",
          "height": 51
        },
        "outputId": "92bf6a65-32d5-4cf1-ac11-db139fc1ccaf"
      },
      "source": [
        "# ライブラリのインポート\n",
        "import pandas as pd\n",
        "import numpy as np\n",
        "import matplotlib.pyplot as plt\n",
        "import matplotlib.image as mpimg\n",
        "import seaborn as sns\n",
        "%matplotlib inline\n",
        "\n",
        "from sklearn.model_selection import train_test_split\n",
        "from sklearn.metrics import confusion_matrix\n",
        "import itertools\n",
        "\n",
        "from keras.utils.np_utils import to_categorical\n",
        "from keras.models import Sequential\n",
        "from keras.layers import Dense, Dropout, Flatten, Conv2D, MaxPool2D\n",
        "from keras.optimizers import RMSprop\n",
        "from keras.preprocessing.image import ImageDataGenerator\n",
        "from keras.callbacks import ReduceLROnPlateau\n",
        "\n",
        "\n",
        "sns.set(style='white', context='notebook', palette='deep')"
      ],
      "execution_count": 2,
      "outputs": [
        {
          "output_type": "stream",
          "text": [
            "/usr/local/lib/python3.6/dist-packages/statsmodels/tools/_testing.py:19: FutureWarning: pandas.util.testing is deprecated. Use the functions in the public API at pandas.testing instead.\n",
            "  import pandas.util.testing as tm\n"
          ],
          "name": "stderr"
        }
      ]
    },
    {
      "cell_type": "code",
      "metadata": {
        "id": "Ci1X9Noq0Ite",
        "colab_type": "code",
        "colab": {
          "base_uri": "https://localhost:8080/",
          "height": 51
        },
        "outputId": "2a237323-4569-41d4-a1a4-a6eeabe3a1cb"
      },
      "source": [
        "# データの読み込み\n",
        "train = pd.read_csv(\"/content/drive/My Drive/digit-recognizer/train.csv\")\n",
        "test = pd.read_csv(\"/content/drive/My Drive/digit-recognizer/test.csv\")\n",
        "\n",
        "print(train.shape)\n",
        "print(test.shape)"
      ],
      "execution_count": 3,
      "outputs": [
        {
          "output_type": "stream",
          "text": [
            "(42000, 785)\n",
            "(28000, 784)\n"
          ],
          "name": "stdout"
        }
      ]
    },
    {
      "cell_type": "code",
      "metadata": {
        "id": "jKjnONH30IzE",
        "colab_type": "code",
        "colab": {
          "base_uri": "https://localhost:8080/",
          "height": 472
        },
        "outputId": "e07aceaa-5c55-4134-9a39-c891c2f258bd"
      },
      "source": [
        "# データの可視化\n",
        "y_train = train[\"label\"]\n",
        "x_train = train.drop(labels=[\"label\"], axis=1) \n",
        "\n",
        "del train \n",
        "\n",
        "sns.countplot(y_train)\n",
        "y_train.value_counts()"
      ],
      "execution_count": 4,
      "outputs": [
        {
          "output_type": "execute_result",
          "data": {
            "text/plain": [
              "1    4684\n",
              "7    4401\n",
              "3    4351\n",
              "9    4188\n",
              "2    4177\n",
              "6    4137\n",
              "0    4132\n",
              "4    4072\n",
              "8    4063\n",
              "5    3795\n",
              "Name: label, dtype: int64"
            ]
          },
          "metadata": {
            "tags": []
          },
          "execution_count": 4
        },
        {
          "output_type": "display_data",
          "data": {
            "image/png": "[encoded data removed]",
            "text/plain": [
              "<Figure size 432x288 with 1 Axes>"
            ]
          },
          "metadata": {
            "tags": []
          }
        }
      ]
    },
    {
      "cell_type": "code",
      "metadata": {
        "id": "yMH7c4x90JHS",
        "colab_type": "code",
        "colab": {
          "base_uri": "https://localhost:8080/",
          "height": 102
        },
        "outputId": "feec5141-0030-489e-a6b5-b45d2a5b2997"
      },
      "source": [
        "# x_trainの欠損値の確認\n",
        "x_train.isnull().any().describe()"
      ],
      "execution_count": 5,
      "outputs": [
        {
          "output_type": "execute_result",
          "data": {
            "text/plain": [
              "count       784\n",
              "unique        1\n",
              "top       False\n",
              "freq        784\n",
              "dtype: object"
            ]
          },
          "metadata": {
            "tags": []
          },
          "execution_count": 5
        }
      ]
    },
    {
      "cell_type": "code",
      "metadata": {
        "id": "J_3G7dsRfnbW",
        "colab_type": "code",
        "colab": {
          "base_uri": "https://localhost:8080/",
          "height": 102
        },
        "outputId": "2671c012-6016-42cb-b57b-9e9abad1a146"
      },
      "source": [
        "# testの欠損値の確認\n",
        "test.isnull().any().describe()"
      ],
      "execution_count": 6,
      "outputs": [
        {
          "output_type": "execute_result",
          "data": {
            "text/plain": [
              "count       784\n",
              "unique        1\n",
              "top       False\n",
              "freq        784\n",
              "dtype: object"
            ]
          },
          "metadata": {
            "tags": []
          },
          "execution_count": 6
        }
      ]
    },
    {
      "cell_type": "code",
      "metadata": {
        "id": "NuNPSbeP0JTt",
        "colab_type": "code",
        "colab": {}
      },
      "source": [
        "# 正規化\n",
        "x_train /= 255.0\n",
        "test /= 255.0"
      ],
      "execution_count": 7,
      "outputs": []
    },
    {
      "cell_type": "code",
      "metadata": {
        "id": "H-TIwe6y0JaE",
        "colab_type": "code",
        "colab": {}
      },
      "source": [
        "# 28×28の行列へ変換\n",
        "x_train = x_train.values.reshape(-1, 28, 28, 1)\n",
        "test = test.values.reshape(-1, 28, 28, 1)"
      ],
      "execution_count": 8,
      "outputs": []
    },
    {
      "cell_type": "code",
      "metadata": {
        "id": "WBMvfA730JXh",
        "colab_type": "code",
        "colab": {}
      },
      "source": [
        "# ラベルをone-hotベクトルにエンコードする\n",
        "y_train = to_categorical(y_train, num_classes=10)"
      ],
      "execution_count": 9,
      "outputs": []
    },
    {
      "cell_type": "code",
      "metadata": {
        "id": "WSSkR9_q0JKB",
        "colab_type": "code",
        "colab": {}
      },
      "source": [
        "# データを分割\n",
        "x_train, x_val, y_train, y_val = train_test_split(x_train, \n",
        "                                                  y_train, \n",
        "                                                  test_size=0.1, \n",
        "                                                  random_state=42)"
      ],
      "execution_count": 10,
      "outputs": []
    },
    {
      "cell_type": "code",
      "metadata": {
        "id": "HmH-RIoL0JE8",
        "colab_type": "code",
        "colab": {
          "base_uri": "https://localhost:8080/",
          "height": 285
        },
        "outputId": "8d9ffb1b-e4f0-455a-e827-64e34728d08a"
      },
      "source": [
        "# 画像を可視化\n",
        "plt.imshow(x_train[0][:,:,0])"
      ],
      "execution_count": 11,
      "outputs": [
        {
          "output_type": "execute_result",
          "data": {
            "text/plain": [
              "<matplotlib.image.AxesImage at 0x7f2cc587b128>"
            ]
          },
          "metadata": {
            "tags": []
          },
          "execution_count": 11
        },
        {
          "output_type": "display_data",
          "data": {
            "image/png": "[encoded data removed]",
            "text/plain": [
              "<Figure size 432x288 with 1 Axes>"
            ]
          },
          "metadata": {
            "tags": []
          }
        }
      ]
    },
    {
      "cell_type": "code",
      "metadata": {
        "id": "EtMIX2pl0IwN",
        "colab_type": "code",
        "colab": {}
      },
      "source": [
        "# モデルの定義\n",
        "# filters、kernel_sizeの数値の設定\n",
        "model = Sequential()\n",
        "\n",
        "model.add(Conv2D(filters=32, kernel_size=(5, 5), padding='Same', \n",
        "                 activation='relu', input_shape=(28, 28, 1)))\n",
        "model.add(Conv2D(filters=32, kernel_size=(5, 5), padding='Same', \n",
        "                 activation='relu'))\n",
        "model.add(MaxPool2D(pool_size=(2, 2)))\n",
        "model.add(Dropout(0.25))\n",
        "\n",
        "model.add(Conv2D(filters=64, kernel_size=(3, 3), padding='Same', \n",
        "                 activation='relu'))\n",
        "model.add(Conv2D(filters=64, kernel_size=(3, 3), padding='Same', \n",
        "                 activation='relu'))\n",
        "model.add(MaxPool2D(pool_size=(2, 2), strides=(2, 2)))\n",
        "model.add(Dropout(0.25))\n",
        "\n",
        "model.add(Flatten())\n",
        "model.add(Dense(256, activation=\"relu\"))\n",
        "model.add(Dropout(0.5))\n",
        "model.add(Dense(10, activation=\"softmax\"))"
      ],
      "execution_count": 12,
      "outputs": []
    },
    {
      "cell_type": "code",
      "metadata": {
        "id": "UYdOKesO6O2g",
        "colab_type": "code",
        "colab": {}
      },
      "source": [
        "# ADAMが使いやすい\n",
        "optimizer = RMSprop(lr=0.001, rho=0.9, epsilon=None, decay=0.0)"
      ],
      "execution_count": 13,
      "outputs": []
    },
    {
      "cell_type": "code",
      "metadata": {
        "id": "Pe-TXcHf6PQF",
        "colab_type": "code",
        "colab": {}
      },
      "source": [
        "model.compile(optimizer=optimizer, \n",
        "              loss=\"categorical_crossentropy\", \n",
        "              metrics=[\"accuracy\"])"
      ],
      "execution_count": 14,
      "outputs": []
    },
    {
      "cell_type": "code",
      "metadata": {
        "id": "j0-ote906PUh",
        "colab_type": "code",
        "colab": {}
      },
      "source": [
        "learning_rate_reduction = ReduceLROnPlateau(monitor='val_accuracy', \n",
        "                                            factor=0.5,\n",
        "                                            patience=3,  \n",
        "                                            min_lr=0.00001)"
      ],
      "execution_count": 15,
      "outputs": []
    },
    {
      "cell_type": "code",
      "metadata": {
        "id": "57kdxj5X6Ozf",
        "colab_type": "code",
        "colab": {}
      },
      "source": [
        "# データの拡張\n",
        "# 画像の内容をしっかり把握してからデータの拡張を行う\n",
        "datagen = ImageDataGenerator(\n",
        "        rotation_range=10,  # 範囲（度、0〜180）の画像をランダムに回転\n",
        "        zoom_range = 0.1, # 画像をランダムにズーム \n",
        "        width_shift_range=0.1,  # 画像を水平方向にランダムにシフト\n",
        "        height_shift_range=0.1,  # 画像をランダムに垂直方向にシフト\n",
        "        horizontal_flip=False,  # 画像をランダムに反転\n",
        "        vertical_flip=False)  # 画像をランダムに反転\n",
        "\n",
        "\n",
        "datagen.fit(x_train)"
      ],
      "execution_count": 16,
      "outputs": []
    },
    {
      "cell_type": "code",
      "metadata": {
        "id": "iWZl1njh6iBr",
        "colab_type": "code",
        "colab": {
          "base_uri": "https://localhost:8080/",
          "height": 1000
        },
        "outputId": "2342ea83-49a9-491d-ac01-b0dbc8d8f5c3"
      },
      "source": [
        "model.fit_generator(datagen.flow(x_train,y_train, batch_size=86),\n",
        "                    epochs = 30, validation_data = (x_val,y_val),\n",
        "                    verbose = 2, steps_per_epoch=x_train.shape[0] // 86, \n",
        "                    callbacks=[learning_rate_reduction])"
      ],
      "execution_count": 17,
      "outputs": [
        {
          "output_type": "stream",
          "text": [
            "WARNING:tensorflow:From <ipython-input-17-8c1b08c806c5>:4: Model.fit_generator (from tensorflow.python.keras.engine.training) is deprecated and will be removed in a future version.\n",
            "Instructions for updating:\n",
            "Please use Model.fit, which supports generators.\n",
            "Epoch 1/30\n",
            "439/439 - 16s - loss: 0.4217 - accuracy: 0.8641 - val_loss: 0.0633 - val_accuracy: 0.9821\n",
            "Epoch 2/30\n",
            "439/439 - 15s - loss: 0.1309 - accuracy: 0.9616 - val_loss: 0.0412 - val_accuracy: 0.9895\n",
            "Epoch 3/30\n",
            "439/439 - 15s - loss: 0.0963 - accuracy: 0.9708 - val_loss: 0.0340 - val_accuracy: 0.9895\n",
            "Epoch 4/30\n",
            "439/439 - 15s - loss: 0.0758 - accuracy: 0.9770 - val_loss: 0.0410 - val_accuracy: 0.9898\n",
            "Epoch 5/30\n",
            "439/439 - 15s - loss: 0.0686 - accuracy: 0.9795 - val_loss: 0.0334 - val_accuracy: 0.9912\n",
            "Epoch 6/30\n",
            "439/439 - 15s - loss: 0.0665 - accuracy: 0.9809 - val_loss: 0.0412 - val_accuracy: 0.9883\n",
            "Epoch 7/30\n",
            "439/439 - 15s - loss: 0.0587 - accuracy: 0.9830 - val_loss: 0.0307 - val_accuracy: 0.9895\n",
            "Epoch 8/30\n",
            "439/439 - 15s - loss: 0.0623 - accuracy: 0.9819 - val_loss: 0.0338 - val_accuracy: 0.9905\n",
            "Epoch 9/30\n",
            "439/439 - 15s - loss: 0.0431 - accuracy: 0.9866 - val_loss: 0.0233 - val_accuracy: 0.9929\n",
            "Epoch 10/30\n",
            "439/439 - 15s - loss: 0.0422 - accuracy: 0.9878 - val_loss: 0.0198 - val_accuracy: 0.9931\n",
            "Epoch 11/30\n",
            "439/439 - 15s - loss: 0.0416 - accuracy: 0.9883 - val_loss: 0.0212 - val_accuracy: 0.9931\n",
            "Epoch 12/30\n",
            "439/439 - 15s - loss: 0.0399 - accuracy: 0.9879 - val_loss: 0.0295 - val_accuracy: 0.9919\n",
            "Epoch 13/30\n",
            "439/439 - 15s - loss: 0.0404 - accuracy: 0.9884 - val_loss: 0.0263 - val_accuracy: 0.9919\n",
            "Epoch 14/30\n",
            "439/439 - 15s - loss: 0.0353 - accuracy: 0.9898 - val_loss: 0.0233 - val_accuracy: 0.9929\n",
            "Epoch 15/30\n",
            "439/439 - 15s - loss: 0.0325 - accuracy: 0.9905 - val_loss: 0.0246 - val_accuracy: 0.9924\n",
            "Epoch 16/30\n",
            "439/439 - 15s - loss: 0.0330 - accuracy: 0.9909 - val_loss: 0.0223 - val_accuracy: 0.9940\n",
            "Epoch 17/30\n",
            "439/439 - 15s - loss: 0.0352 - accuracy: 0.9898 - val_loss: 0.0207 - val_accuracy: 0.9931\n",
            "Epoch 18/30\n",
            "439/439 - 15s - loss: 0.0326 - accuracy: 0.9910 - val_loss: 0.0225 - val_accuracy: 0.9931\n",
            "Epoch 19/30\n",
            "439/439 - 15s - loss: 0.0318 - accuracy: 0.9909 - val_loss: 0.0228 - val_accuracy: 0.9919\n",
            "Epoch 20/30\n",
            "439/439 - 15s - loss: 0.0298 - accuracy: 0.9916 - val_loss: 0.0181 - val_accuracy: 0.9940\n",
            "Epoch 21/30\n",
            "439/439 - 15s - loss: 0.0271 - accuracy: 0.9917 - val_loss: 0.0190 - val_accuracy: 0.9943\n",
            "Epoch 22/30\n",
            "439/439 - 15s - loss: 0.0295 - accuracy: 0.9914 - val_loss: 0.0187 - val_accuracy: 0.9943\n",
            "Epoch 23/30\n",
            "439/439 - 15s - loss: 0.0282 - accuracy: 0.9914 - val_loss: 0.0185 - val_accuracy: 0.9945\n",
            "Epoch 24/30\n",
            "439/439 - 15s - loss: 0.0281 - accuracy: 0.9923 - val_loss: 0.0208 - val_accuracy: 0.9940\n",
            "Epoch 25/30\n",
            "439/439 - 15s - loss: 0.0273 - accuracy: 0.9918 - val_loss: 0.0220 - val_accuracy: 0.9938\n",
            "Epoch 26/30\n",
            "439/439 - 15s - loss: 0.0304 - accuracy: 0.9913 - val_loss: 0.0194 - val_accuracy: 0.9926\n",
            "Epoch 27/30\n",
            "439/439 - 15s - loss: 0.0263 - accuracy: 0.9923 - val_loss: 0.0192 - val_accuracy: 0.9940\n",
            "Epoch 28/30\n",
            "439/439 - 15s - loss: 0.0259 - accuracy: 0.9924 - val_loss: 0.0213 - val_accuracy: 0.9933\n",
            "Epoch 29/30\n",
            "439/439 - 15s - loss: 0.0274 - accuracy: 0.9917 - val_loss: 0.0194 - val_accuracy: 0.9938\n",
            "Epoch 30/30\n",
            "439/439 - 15s - loss: 0.0257 - accuracy: 0.9923 - val_loss: 0.0191 - val_accuracy: 0.9936\n"
          ],
          "name": "stdout"
        },
        {
          "output_type": "execute_result",
          "data": {
            "text/plain": [
              "<tensorflow.python.keras.callbacks.History at 0x7f2cc582f940>"
            ]
          },
          "metadata": {
            "tags": []
          },
          "execution_count": 17
        }
      ]
    },
    {
      "cell_type": "code",
      "metadata": {
        "id": "JtS6O-k06iP0",
        "colab_type": "code",
        "colab": {}
      },
      "source": [
        "results = model.predict(test)\n",
        "results = np.argmax(results, axis=1)\n",
        "results = pd.Series(results, name=\"Label\")"
      ],
      "execution_count": 18,
      "outputs": []
    },
    {
      "cell_type": "code",
      "metadata": {
        "id": "pzZ_A2p_6iUT",
        "colab_type": "code",
        "colab": {}
      },
      "source": [
        "submission = pd.concat([pd.Series(range(1,28001), name =\"ImageId\"), results], axis=1)\n",
        "submission.to_csv(\"cnn_mnist.csv\",index=False)"
      ],
      "execution_count": 19,
      "outputs": []
    },
    {
      "cell_type": "code",
      "metadata": {
        "id": "r8s0AlpFQzEr",
        "colab_type": "code",
        "colab": {}
      },
      "source": [
        ""
      ],
      "execution_count": 19,
      "outputs": []
    }
  ]
}